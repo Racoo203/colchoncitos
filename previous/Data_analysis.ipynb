{
 "cells": [
  {
   "cell_type": "code",
   "execution_count": 3,
   "metadata": {},
   "outputs": [],
   "source": [
    "import pandas as pd\n",
    "import numpy as np\n",
    "import seaborn as sns\n",
    "\n"
   ]
  },
  {
   "cell_type": "code",
   "execution_count": 4,
   "metadata": {},
   "outputs": [],
   "source": [
    "df = pd.read_csv('WorkingDB.csv')\n",
    "df[\"Fecha\"] = pd.to_datetime(df[\"Fecha\"])"
   ]
  },
  {
   "cell_type": "code",
   "execution_count": 5,
   "metadata": {},
   "outputs": [
    {
     "data": {
      "text/plain": [
       "0      2022-04-01\n",
       "1      2022-04-01\n",
       "2      2022-04-01\n",
       "3      2022-04-01\n",
       "4      2022-04-01\n",
       "          ...    \n",
       "3073   2022-06-30\n",
       "3074   2022-06-30\n",
       "3075   2022-06-30\n",
       "3076   2022-06-30\n",
       "3077   2022-06-30\n",
       "Name: Fecha, Length: 3078, dtype: datetime64[ns]"
      ]
     },
     "execution_count": 5,
     "metadata": {},
     "output_type": "execute_result"
    }
   ],
   "source": [
    "df[\"Fecha\"]"
   ]
  },
  {
   "cell_type": "code",
   "execution_count": 28,
   "metadata": {},
   "outputs": [
    {
     "data": {
      "text/plain": [
       "Index(['Cadereyta Ctdad Ordenada', 'Coahuila Ctdad Ordenada',\n",
       "       'Durango Ctdad Ordenada', 'Expos F Ctdad Ordenada',\n",
       "       'Laredo Ctdad Ordenada', 'Monterrey Ctdad Ordenada',\n",
       "       'Online Ctdad Ordenada', 'Queretaro Ctdad Ordenada',\n",
       "       'Reynosa Ctdad Ordenada', 'San Luis Ctdad Ordenada'],\n",
       "      dtype='object')"
      ]
     },
     "execution_count": 28,
     "metadata": {},
     "output_type": "execute_result"
    }
   ],
   "source": []
  },
  {
   "cell_type": "code",
   "execution_count": 105,
   "metadata": {},
   "outputs": [],
   "source": [
    "#for i in df[\"Producto\"]:\n",
    "x = df.loc[df[\"Producto\"]==\"Producto 2\"][\"Fecha\"]\n",
    "y =df.loc[df[\"Producto\"]==\"Producto 2\"].iloc[:,1:-1]"
   ]
  },
  {
   "cell_type": "code",
   "execution_count": 120,
   "metadata": {},
   "outputs": [
    {
     "name": "stderr",
     "output_type": "stream",
     "text": [
      "C:\\Users\\progra.DESKTOP-GV4Q93K\\AppData\\Local\\Temp\\ipykernel_12652\\4275659632.py:1: FutureWarning: Dropping of nuisance columns in DataFrame reductions (with 'numeric_only=None') is deprecated; in a future version this will raise TypeError.  Select only valid columns before calling the reduction.\n",
      "  df[\"Total\"] = df.sum(axis=1)\n"
     ]
    }
   ],
   "source": [
    "df[\"Total\"] = df.sum(axis=1)"
   ]
  },
  {
   "cell_type": "code",
   "execution_count": 147,
   "metadata": {},
   "outputs": [
    {
     "data": {
      "text/plain": [
       "<Axes: xlabel='Fecha'>"
      ]
     },
     "execution_count": 147,
     "metadata": {},
     "output_type": "execute_result"
    },
    {
     "data": {
      "image/png": "[encoded data removed]",
      "text/plain": [
       "<Figure size 640x480 with 1 Axes>"
      ]
     },
     "metadata": {},
     "output_type": "display_data"
    }
   ],
   "source": [
    "df.loc[df[\"Producto\"]==\"Producto 56\"].plot(x=\"Fecha\", y=\"Total\", kind=\"line\", ylim=0,marker=\"o\")"
   ]
  },
  {
   "cell_type": "code",
   "execution_count": 8,
   "metadata": {},
   "outputs": [],
   "source": [
    "#for i in df[\"Producto\"]:\n",
    " #   df.loc[df[\"Producto\"]==i].groupby(\"Fecha\").sum().plot(kind=\"line\", title=i,figsize=(20, 16), fontsize=26).get_figure().savefig(i+\".png\")"
   ]
  },
  {
   "cell_type": "code",
   "execution_count": null,
   "metadata": {},
   "outputs": [],
   "source": [
    "\n"
   ]
  }
 ],
 "metadata": {
  "kernelspec": {
   "display_name": "base",
   "language": "python",
   "name": "python3"
  },
  "language_info": {
   "codemirror_mode": {
    "name": "ipython",
    "version": 3
   },
   "file_extension": ".py",
   "mimetype": "text/x-python",
   "name": "python",
   "nbconvert_exporter": "python",
   "pygments_lexer": "ipython3",
   "version": "3.10.9"
  }
 },
 "nbformat": 4,
 "nbformat_minor": 2
}
