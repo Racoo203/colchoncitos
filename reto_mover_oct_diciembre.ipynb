{
  "nbformat": 4,
  "nbformat_minor": 0,
  "metadata": {
    "colab": {
      "provenance": []
    },
    "kernelspec": {
      "name": "python3",
      "display_name": "Python 3"
    },
    "language_info": {
      "name": "python"
    }
  },
  "cells": [
    {
      "cell_type": "code",
      "source": [
        "import pandas as pd\n",
        "import matplotlib.pyplot as plt"
      ],
      "metadata": {
        "id": "SG1UaQeggV_J"
      },
      "execution_count": 3,
      "outputs": []
    },
    {
      "cell_type": "code",
      "execution_count": 1,
      "metadata": {
        "colab": {
          "base_uri": "https://localhost:8080/"
        },
        "id": "ICPt1TgbciIg",
        "outputId": "d92eefd2-27fb-49a9-876c-0014609c828b"
      },
      "outputs": [
        {
          "output_type": "stream",
          "name": "stdout",
          "text": [
            "Mounted at /content/drive\n"
          ]
        }
      ],
      "source": [
        "from google.colab import drive\n",
        "drive.mount('/content/drive')"
      ]
    },
    {
      "cell_type": "code",
      "source": [
        "df = pd.read_excel('/content/drive/MyDrive/Colab Notebooks/TC2004B.101/Reto/CSVs/encoded_db.xlsx')\n",
        "print(df.head(10))"
      ],
      "metadata": {
        "colab": {
          "base_uri": "https://localhost:8080/"
        },
        "id": "ZGcTwJqKft0W",
        "outputId": "7543f561-108d-4150-e02a-8c01258b0da5"
      },
      "execution_count": 5,
      "outputs": [
        {
          "output_type": "stream",
          "name": "stdout",
          "text": [
            "   Unnamed: 0  index              date Encoded Products  Cadereyta total $  \\\n",
            "0           0      4       02 ene 2022      Producto 11                0.0   \n",
            "1           1      5       02 ene 2022       Producto 6                0.0   \n",
            "2           2      6       02 ene 2022      Producto 24                0.0   \n",
            "3           3      7       02 ene 2022      Producto 15                0.0   \n",
            "4           4      8       02 ene 2022       Producto 9                0.0   \n",
            "5           5      9       02 ene 2022       Producto 4                0.0   \n",
            "6           6     10       02 ene 2022       Producto 3                0.0   \n",
            "7           7     11       02 ene 2022       Producto 2                0.0   \n",
            "8           8     12       02 ene 2022      Producto 23                0.0   \n",
            "9           9     13       02 ene 2022      Producto 28                0.0   \n",
            "\n",
            "   Cadereyta ctdad  Coahuila total $  Coahuila ctdad  Durango total $  \\\n",
            "0              0.0             0.000             0.0             0.00   \n",
            "1              0.0             0.000             0.0             0.00   \n",
            "2              0.0             0.000             0.0             0.00   \n",
            "3              0.0             0.000             0.0             0.00   \n",
            "4              0.0         27154.855             3.5             0.00   \n",
            "5              0.0             0.000             0.0             0.00   \n",
            "6              0.0         10361.540             3.5             0.00   \n",
            "7              0.0             0.000             0.0         14556.29   \n",
            "8              0.0             0.000             0.0             0.00   \n",
            "9              0.0             0.000             0.0             0.00   \n",
            "\n",
            "   Durango ctdad  ...  Queretaro total $  Queretaro ctdad  Reynosa total $  \\\n",
            "0            0.0  ...              0.000              0.0            0.000   \n",
            "1            0.0  ...          23477.440              3.5            0.000   \n",
            "2            0.0  ...              0.000              0.0            0.000   \n",
            "3            0.0  ...              0.000              0.0            0.000   \n",
            "4            0.0  ...              0.000              0.0            0.000   \n",
            "5            0.0  ...          79710.715              7.0        93552.375   \n",
            "6            0.0  ...              0.000              0.0            0.000   \n",
            "7            3.5  ...              0.000              0.0            0.000   \n",
            "8            0.0  ...              0.000              0.0            0.000   \n",
            "9            0.0  ...              0.000              0.0            0.000   \n",
            "\n",
            "   Reynosa ctdad  San Luis total $  San Luis ctdad  Total libre de impuestos  \\\n",
            "0            0.0         18162.130             3.5                 58623.600   \n",
            "1            0.0             0.000             0.0                 23477.440   \n",
            "2            0.0             0.000             0.0                 31083.500   \n",
            "3            0.0             0.000             0.0                 42846.020   \n",
            "4            0.0             0.000             0.0                 27154.855   \n",
            "5            7.0         78390.480             7.0                287115.920   \n",
            "6            0.0         10361.540             3.5                 53200.805   \n",
            "7            0.0         13242.180             3.5                 27798.470   \n",
            "8            0.0         21480.865             3.5                 21480.865   \n",
            "9            0.0         13580.070             3.5                 13580.070   \n",
            "\n",
            "   Ctdad Ordenada  Indefinido total $  Indefinido ctdad  \n",
            "0            10.5                 NaN               NaN  \n",
            "1             3.5                 NaN               NaN  \n",
            "2             3.5                 NaN               NaN  \n",
            "3             7.0                 NaN               NaN  \n",
            "4             3.5                 NaN               NaN  \n",
            "5            24.5                 NaN               NaN  \n",
            "6            17.5                 NaN               NaN  \n",
            "7             7.0                 NaN               NaN  \n",
            "8             3.5                 NaN               NaN  \n",
            "9             3.5                 NaN               NaN  \n",
            "\n",
            "[10 rows x 28 columns]\n"
          ]
        }
      ]
    },
    {
      "cell_type": "code",
      "source": [
        "# Eliminar los espacios adicionales en las fechas\n",
        "df['date'] = df['date'].str.strip()\n",
        "\n",
        "# Mapeo de los nombres de los meses en español a los nombres en inglés\n",
        "meses = {\n",
        "    'ene': 'Jan',\n",
        "    'feb': 'Feb',\n",
        "    'mar': 'Mar',\n",
        "    'abr': 'Apr',\n",
        "    'may': 'May',\n",
        "    'jun': 'Jun',\n",
        "    'jul': 'Jul',\n",
        "    'ago': 'Aug',\n",
        "    'sep': 'Sep',\n",
        "    'oct': 'Oct',\n",
        "    'nov': 'Nov',\n",
        "    'dic': 'Dec'\n",
        "}\n",
        "\n",
        "# Función para convertir los nombres de los meses en español a inglés\n",
        "def convertir_meses(fecha):\n",
        "    for mes_es, mes_en in meses.items():\n",
        "        fecha = fecha.replace(mes_es, mes_en)\n",
        "    return fecha\n",
        "\n",
        "# Aplicar la función a la columna de fecha\n",
        "df['date'] = df['date'].apply(convertir_meses)\n",
        "\n",
        "# Convertir la columna de fecha a datetime\n",
        "df['date'] = pd.to_datetime(df['date'], format='%d %b %Y')\n",
        "\n",
        "\n",
        "#los que quiero copiar de 2023\n",
        "registros_2023 = df[(df['date'] >= '2023-09-30') & (df['date'] < '2024-01-01')].copy()\n",
        "\n",
        "#cambio fecha de copiado a 2022\n",
        "registros_2023['date'] = registros_2023['date'].apply(lambda x: x.replace(year=2022))\n",
        "\n",
        "#concateno con original\n",
        "df = pd.concat([df, registros_2023])\n",
        "\n",
        "#ordeno original por fecha\n",
        "df = df.sort_values('date')\n",
        "\n",
        "#download new csv\n",
        "df.to_csv('df_final.csv', index=False)\n",
        "from google.colab import files\n",
        "files.download('df_final.csv')\n",
        "\n",
        "\n",
        "\n"
      ],
      "metadata": {
        "colab": {
          "base_uri": "https://localhost:8080/",
          "height": 17
        },
        "id": "h1NwaQx3g4q8",
        "outputId": "391f1cc9-62f7-48db-d710-4412cf3932b5"
      },
      "execution_count": 9,
      "outputs": [
        {
          "output_type": "display_data",
          "data": {
            "text/plain": [
              "<IPython.core.display.Javascript object>"
            ],
            "application/javascript": [
              "\n",
              "    async function download(id, filename, size) {\n",
              "      if (!google.colab.kernel.accessAllowed) {\n",
              "        return;\n",
              "      }\n",
              "      const div = document.createElement('div');\n",
              "      const label = document.createElement('label');\n",
              "      label.textContent = `Downloading \"${filename}\": `;\n",
              "      div.appendChild(label);\n",
              "      const progress = document.createElement('progress');\n",
              "      progress.max = size;\n",
              "      div.appendChild(progress);\n",
              "      document.body.appendChild(div);\n",
              "\n",
              "      const buffers = [];\n",
              "      let downloaded = 0;\n",
              "\n",
              "      const channel = await google.colab.kernel.comms.open(id);\n",
              "      // Send a message to notify the kernel that we're ready.\n",
              "      channel.send({})\n",
              "\n",
              "      for await (const message of channel.messages) {\n",
              "        // Send a message to notify the kernel that we're ready.\n",
              "        channel.send({})\n",
              "        if (message.buffers) {\n",
              "          for (const buffer of message.buffers) {\n",
              "            buffers.push(buffer);\n",
              "            downloaded += buffer.byteLength;\n",
              "            progress.value = downloaded;\n",
              "          }\n",
              "        }\n",
              "      }\n",
              "      const blob = new Blob(buffers, {type: 'application/binary'});\n",
              "      const a = document.createElement('a');\n",
              "      a.href = window.URL.createObjectURL(blob);\n",
              "      a.download = filename;\n",
              "      div.appendChild(a);\n",
              "      a.click();\n",
              "      div.remove();\n",
              "    }\n",
              "  "
            ]
          },
          "metadata": {}
        },
        {
          "output_type": "display_data",
          "data": {
            "text/plain": [
              "<IPython.core.display.Javascript object>"
            ],
            "application/javascript": [
              "download(\"download_e0fa3bcf-6c09-4a59-8072-31b8e74ed1f6\", \"df_final.csv\", 4313173)"
            ]
          },
          "metadata": {}
        }
      ]
    }
  ]
}